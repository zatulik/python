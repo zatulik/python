{
 "cells": [
  {
   "cell_type": "markdown",
   "metadata": {},
   "source": [
    "Базовая часть\n",
    "Рассмотрим задание 2 из лекции. При анализе отзывов на работу техподдержки вы считали массив из отзывов (для простоты отзыва приведено всего два, но могло быть и больше):"
   ]
  },
  {
   "cell_type": "code",
   "execution_count": 4,
   "metadata": {
    "collapsed": true
   },
   "outputs": [],
   "source": [
    "\n",
    "reviews = [\"\"\"Телефон абонента: +7 916 000 00 01\n",
    "Время: 10:34\n",
    "Дата: 20.05.2017\n",
    "Оценка: 1\n",
    "Длительность разговора (мин.): 0:32\n",
    "Комментарий: Общение с сотрудником вашей техподдержки мне не понравилось. Раньше всегда отвечала девушка с приятным голосом, а сегодня какой-то мужчина. Совсем никуда не годится, примите меры!!!\"\"\",\n",
    "\"\"\"Телефон абонента: +7 916 000 00 02\n",
    "Время: 9:20\n",
    "Дата: 21.05.2017\n",
    "Оценка: 5\n",
    "Длительность разговора (мин.): 25:07\n",
    "Комментарий: С моей проблемой мне помогли, большое спасибо!\"\"\"]"
   ]
  },
  {
   "cell_type": "code",
   "execution_count": 5,
   "metadata": {
    "collapsed": true
   },
   "outputs": [],
   "source": [
    "\n",
    "my_base = {}\n",
    "for review in reviews:\n",
    "    # создаём словарь для новой записи\n",
    "    review_dict = {}\n",
    "    for line in review.split('\\n'):\n",
    "        # мы видим, что имена полей отделяются двоеточием, поэтому тоже сделаем split по этому символу\n",
    "        tokens = line.split(':')\n",
    "        # первая часть будет названием поля\n",
    "        name = tokens[0]\n",
    "        # в оставшейся части могли быть символы двоеточния, а мы по ним разделяли, поэтому нужно обратно по ним  соединить\n",
    "        remained_part = ':'.join(tokens[1:]).strip()\n",
    "        # в словаре review_dict создаём нужную запись\n",
    "        review_dict[name] = remained_part\n",
    "    # В итоговом словаре ключом является Телефон абонента, поэтому добавим запись по этому ключу\n",
    "    my_base[review_dict['Телефон абонента']] = review_dict"
   ]
  },
  {
   "cell_type": "markdown",
   "metadata": {},
   "source": [
    "Сформируйте на основе этого массива словарь my_base, в котором по ключу в виде строки с телефоном абонента будет храниться другой словарь. Внутренний словарь по ключам в виде названий полей отзыва должен хранить значение полей (в виде строк). Например, код ниже должен выдать True:"
   ]
  },
  {
   "cell_type": "code",
   "execution_count": 6,
   "metadata": {
    "collapsed": false
   },
   "outputs": [
    {
     "data": {
      "text/plain": [
       "True"
      ]
     },
     "execution_count": 6,
     "metadata": {},
     "output_type": "execute_result"
    }
   ],
   "source": [
    "my_base['+7 916 000 00 01']['Дата'] == '20.05.2017'"
   ]
  },
  {
   "cell_type": "code",
   "execution_count": 7,
   "metadata": {
    "collapsed": false
   },
   "outputs": [
    {
     "data": {
      "text/plain": [
       "True"
      ]
     },
     "execution_count": 7,
     "metadata": {},
     "output_type": "execute_result"
    }
   ],
   "source": [
    "\n",
    "my_base['+7 916 000 00 01']['Время'] == '10:34'"
   ]
  },
  {
   "cell_type": "code",
   "execution_count": 8,
   "metadata": {
    "collapsed": false
   },
   "outputs": [
    {
     "data": {
      "text/plain": [
       "True"
      ]
     },
     "execution_count": 8,
     "metadata": {},
     "output_type": "execute_result"
    }
   ],
   "source": [
    "my_base['+7 916 000 00 01']['Длительность разговора (мин.)'] == '0:32'"
   ]
  },
  {
   "cell_type": "code",
   "execution_count": 9,
   "metadata": {
    "collapsed": false
   },
   "outputs": [
    {
     "data": {
      "text/plain": [
       "True"
      ]
     },
     "execution_count": 9,
     "metadata": {},
     "output_type": "execute_result"
    }
   ],
   "source": [
    "my_base['+7 916 000 00 02']['Оценка'] == '5'"
   ]
  },
  {
   "cell_type": "markdown",
   "metadata": {},
   "source": [
    "Продвинутая часть\n",
    "Попробуйте выполнить предыдущее задание, но теперь обеспечив хранение полей из отзыва в словаре в тех типах данных, которые на ваш взгляд наиболее уместны. Подумайте, что делать с датой и временем. Возможно вам покажется полезным немного воспользоваться поисковиком или документацией к Python, а может быть вам хватит стандартных типов данных. Объясните свой выбор в комментариях к коду или markdown ячейках и продемонстрируйте, что поля имеют нужный тип."
   ]
  },
  {
   "cell_type": "code",
   "execution_count": 10,
   "metadata": {
    "collapsed": true
   },
   "outputs": [],
   "source": [
    "import datetime\n",
    "\n",
    "my_base = {}\n",
    "for review in reviews:\n",
    "    # создаём словарь для новой записи\n",
    "    review_dict = {}\n",
    "    for line in review.split('\\n'):\n",
    "        # мы видим, что имена полей отделяются двоеточием, поэтому тоже сделаем split по этому символу\n",
    "        tokens = line.split(':')\n",
    "        # первая часть будет названием поля\n",
    "        name = tokens[0]\n",
    "        # в оставшейся части могли быть символы двоеточния, а мы по ним разделяли, поэтому нужно обратно по ним  соединить\n",
    "        remained_part = ':'.join(tokens[1:]).strip()\n",
    "        # в словаре review_dict создаём нужную запись\n",
    "        review_dict[name] = remained_part\n",
    "        \n",
    "    # Теперь нужно сделать преобразования типов для полей\n",
    "    \n",
    "    duration = review_dict['Длительность разговора (мин.)'].split(':')\n",
    "    new_review_dict = {\n",
    "        # Телефон абонента не трогаем\n",
    "        'phone': review_dict['Телефон абонента'],\n",
    "        # Время и дату удобно объединить в питоновском объекте datetime\n",
    "        'datetime': datetime.datetime.strptime(review_dict['Дата'] + ' ' + review_dict['Время'], \n",
    "                                               '%d.%m.%Y %M:%S'),\n",
    "        # Оценку лучше перевести в int\n",
    "        'rate': int(review_dict['Оценка']),\n",
    "        # Поскольку продолжительность дана в минутах, то можно перевести всё в секундах и хранить как int\n",
    "        'duration': int(duration[0]) * 60 + int(duration[1]) ,\n",
    "        # Комментарии оставим строчкой\n",
    "        'comments': review_dict['Комментарий']\n",
    "    }\n",
    "    \n",
    "    # В итоговом словаре ключом является Телефон абонента, поэтому добавим запись по этому ключу\n",
    "    my_base[new_review_dict['phone']] = new_review_dict"
   ]
  },
  {
   "cell_type": "code",
   "execution_count": 11,
   "metadata": {
    "collapsed": false
   },
   "outputs": [
    {
     "name": "stdout",
     "output_type": "stream",
     "text": [
      "+7 916 000 00 01\n"
     ]
    }
   ],
   "source": [
    "print my_base['+7 916 000 00 01']['phone']"
   ]
  },
  {
   "cell_type": "code",
   "execution_count": 12,
   "metadata": {
    "collapsed": false
   },
   "outputs": [
    {
     "name": "stdout",
     "output_type": "stream",
     "text": [
      "2017-05-20 00:10:34\n"
     ]
    }
   ],
   "source": [
    "\n",
    "print my_base['+7 916 000 00 01']['datetime']"
   ]
  },
  {
   "cell_type": "code",
   "execution_count": 13,
   "metadata": {
    "collapsed": false
   },
   "outputs": [
    {
     "name": "stdout",
     "output_type": "stream",
     "text": [
      "True\n"
     ]
    }
   ],
   "source": [
    "print my_base['+7 916 000 00 01']['rate'] == 1"
   ]
  },
  {
   "cell_type": "code",
   "execution_count": 14,
   "metadata": {
    "collapsed": false
   },
   "outputs": [
    {
     "name": "stdout",
     "output_type": "stream",
     "text": [
      "True\n"
     ]
    }
   ],
   "source": [
    "print my_base['+7 916 000 00 01']['duration'] == 32"
   ]
  },
  {
   "cell_type": "code",
   "execution_count": 15,
   "metadata": {
    "collapsed": false
   },
   "outputs": [
    {
     "name": "stdout",
     "output_type": "stream",
     "text": [
      "Общение с сотрудником вашей техподдержки мне не понравилось. Раньше всегда отвечала девушка с приятным голосом, а сегодня какой-то мужчина. Совсем никуда не годится, примите меры!!!\n"
     ]
    }
   ],
   "source": [
    "print my_base['+7 916 000 00 01']['comments']"
   ]
  },
  {
   "cell_type": "markdown",
   "metadata": {},
   "source": []
  },
  {
   "cell_type": "code",
   "execution_count": null,
   "metadata": {
    "collapsed": true
   },
   "outputs": [],
   "source": []
  },
  {
   "cell_type": "code",
   "execution_count": null,
   "metadata": {
    "collapsed": true
   },
   "outputs": [],
   "source": []
  }
 ],
 "metadata": {
  "kernelspec": {
   "display_name": "Python 2",
   "language": "python",
   "name": "python2"
  },
  "language_info": {
   "codemirror_mode": {
    "name": "ipython",
    "version": 2
   },
   "file_extension": ".py",
   "mimetype": "text/x-python",
   "name": "python",
   "nbconvert_exporter": "python",
   "pygments_lexer": "ipython2",
   "version": "2.7.13"
  }
 },
 "nbformat": 4,
 "nbformat_minor": 2
}
